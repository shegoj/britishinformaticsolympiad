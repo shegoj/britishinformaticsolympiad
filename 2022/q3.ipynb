{
 "cells": [
  {
   "cell_type": "code",
   "execution_count": 147,
   "metadata": {},
   "outputs": [
    {
     "data": {
      "text/plain": [
       "'ABACAEFHBFJAMLCB'"
      ]
     },
     "execution_count": 147,
     "metadata": {},
     "output_type": "execute_result"
    }
   ],
   "source": [
    "import string\n",
    "config,idx = input().split()\n",
    "idx = int(idx)-1\n",
    "config_options = {}\n",
    "\n",
    "letters = string.ascii_uppercase\n",
    "for i in range(len(config)):\n",
    "    car = config[i]\n",
    "    \n",
    "    possible_configs = [letters[i]]\n",
    "    previous_configs = config[:i]\n",
    "    later_configs = config[i:]\n",
    "    #print(\"CAR\",config[i],previous_configs)\n",
    "    for space in range(len(previous_configs)-1,-1,-1):\n",
    "        if car > previous_configs[space]:\n",
    "            possible_configs.append(letters[space])\n",
    "        else:\n",
    "            break\n",
    "    config_options[car] = possible_configs\n",
    "config_options\n",
    "\n",
    "for key in sorted(config_options):\n",
    "    config_options[key] = sorted(config_options[key])\n",
    "\n",
    "config = []\n",
    "for key in reversed(sorted(config_options)):\n",
    "    #print(key,\"length\",len(config_options[key]))\n",
    "    #print(idx,len(config_options[key]))\n",
    "    config_idx = idx % len(config_options[key])\n",
    "    config.append(config_options[key][config_idx])\n",
    "    idx //= len(config_options[key])\n",
    "    #print(idx,config)\n",
    "''.join(list(reversed(config)))"
   ]
  },
  {
   "cell_type": "code",
   "execution_count": 107,
   "metadata": {},
   "outputs": [
    {
     "data": {
      "text/plain": [
       "{'c': ['A'], 'a': ['B'], 'b': ['B', 'C'], 'd': ['A', 'B', 'C', 'D']}"
      ]
     },
     "execution_count": 107,
     "metadata": {},
     "output_type": "execute_result"
    }
   ],
   "source": [
    "config_options"
   ]
  },
  {
   "cell_type": "code",
   "execution_count": 88,
   "metadata": {},
   "outputs": [
    {
     "name": "stdout",
     "output_type": "stream",
     "text": [
      "a ['B']\n",
      "B 8.0\n",
      "b ['B', 'C']\n",
      "C 4.0\n",
      "c ['A']\n",
      "A 4.0\n",
      "d ['A', 'B', 'C', 'D']\n",
      "D 1.0\n"
     ]
    }
   ],
   "source": [
    "import numpy as np\n",
    "\n",
    "options = int(np.prod([len(config_options[key]) for key in config_options]))\n",
    "def find_config(config_options,idx):\n",
    "    choices = options\n",
    "    config = []\n",
    "    for key in sorted(config_options):\n",
    "        print(key,config_options[key])\n",
    "        # Count how many options with char in the given position\n",
    "        configs_per_choice = choices / len(config_options[key])\n",
    "        option = int(choices // configs_per_choice-1)\n",
    "        choices -= configs_per_choice * option\n",
    "        print(config_options[key][option],choices)\n",
    "\n",
    "find_config(config_options,1)"
   ]
  },
  {
   "cell_type": "code",
   "execution_count": 132,
   "metadata": {},
   "outputs": [
    {
     "name": "stdout",
     "output_type": "stream",
     "text": [
      "d length 4\n",
      "7 4\n",
      "1 ['D']\n",
      "c length 1\n",
      "1 1\n",
      "1 ['D', 'A']\n",
      "b length 2\n",
      "1 2\n",
      "0 ['D', 'A', 'C']\n",
      "a length 1\n",
      "0 1\n",
      "0 ['D', 'A', 'C', 'B']\n"
     ]
    },
    {
     "data": {
      "text/plain": [
       "['B', 'C', 'A', 'D']"
      ]
     },
     "execution_count": 132,
     "metadata": {},
     "output_type": "execute_result"
    }
   ],
   "source": [
    "idx = 7\n",
    "config = []\n",
    "for key in reversed(sorted(config_options)):\n",
    "    print(key,\"length\",len(config_options[key]))\n",
    "    print(idx,len(config_options[key]))\n",
    "    config_idx = idx % len(config_options[key])\n",
    "    config.append(config_options[key][config_idx])\n",
    "    idx //= len(config_options[key])\n",
    "    print(idx,config)\n",
    "list(reversed(config))"
   ]
  },
  {
   "cell_type": "code",
   "execution_count": 110,
   "metadata": {},
   "outputs": [
    {
     "data": {
      "text/plain": [
       "{'c': ['A'], 'a': ['B'], 'b': ['B', 'C'], 'd': ['A', 'B', 'C', 'D']}"
      ]
     },
     "execution_count": 110,
     "metadata": {},
     "output_type": "execute_result"
    }
   ],
   "source": [
    "config_options"
   ]
  },
  {
   "cell_type": "code",
   "execution_count": 122,
   "metadata": {},
   "outputs": [
    {
     "data": {
      "text/plain": [
       "1"
      ]
     },
     "execution_count": 122,
     "metadata": {},
     "output_type": "execute_result"
    }
   ],
   "source": [
    "4%3"
   ]
  },
  {
   "cell_type": "code",
   "execution_count": null,
   "metadata": {},
   "outputs": [],
   "source": []
  }
 ],
 "metadata": {
  "kernelspec": {
   "display_name": "Python 3.9.12 ('base')",
   "language": "python",
   "name": "python3"
  },
  "language_info": {
   "codemirror_mode": {
    "name": "ipython",
    "version": 3
   },
   "file_extension": ".py",
   "mimetype": "text/x-python",
   "name": "python",
   "nbconvert_exporter": "python",
   "pygments_lexer": "ipython3",
   "version": "3.9.12"
  },
  "orig_nbformat": 4,
  "vscode": {
   "interpreter": {
    "hash": "19d1d53a962d236aa061289c2ac16dc8e6d9648c89fe79f459ae9a3493bc67b4"
   }
  }
 },
 "nbformat": 4,
 "nbformat_minor": 2
}
